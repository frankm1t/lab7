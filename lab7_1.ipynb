{
 "cells": [
  {
   "cell_type": "code",
   "execution_count": 15,
   "metadata": {},
   "outputs": [],
   "source": [
    "import pandas as pd\n",
    "from sklearn.model_selection import train_test_split\n",
    "from sklearn.preprocessing import MinMaxScaler\n",
    "import torch\n",
    "import torch.nn as nn\n",
    "import torch.optim as optim"
   ]
  },
  {
   "cell_type": "code",
   "execution_count": 16,
   "metadata": {},
   "outputs": [],
   "source": [
    "# Завантаження даних\n",
    "url = \"https://raw.githubusercontent.com/jbrownlee/Datasets/master/pima-indians-diabetes.data.csv\"\n",
    "dataset = pd.read_csv(url, header=None)"
   ]
  },
  {
   "cell_type": "code",
   "execution_count": 17,
   "metadata": {},
   "outputs": [],
   "source": [
    "# Визначення ознак та міток\n",
    "X = dataset.iloc[:, :-1].values\n",
    "y = dataset.iloc[:, -1].values\n",
    "\n",
    "# Поділ даних на тренувальну і валідаційну вибірку (70/30%)\n",
    "X_train, X_val, y_train, y_val = train_test_split(X, y, test_size=0.3, random_state=42)\n",
    "\n",
    "# Нормалізація даних\n",
    "scaler = MinMaxScaler()\n",
    "X_train_normalized = scaler.fit_transform(X_train)\n",
    "X_val_normalized = scaler.transform(X_val)\n"
   ]
  },
  {
   "cell_type": "code",
   "execution_count": 18,
   "metadata": {},
   "outputs": [],
   "source": [
    "# Визначення архітектури мережі\n",
    "class Net(nn.Module):\n",
    "    def __init__(self, input_size):\n",
    "        super(Net, self).__init__()\n",
    "        self.fc1 = nn.Linear(input_size, 12)\n",
    "        self.fc2 = nn.Linear(12, 8)\n",
    "        self.fc3 = nn.Linear(8, 1)\n",
    "\n",
    "    def forward(self, x):\n",
    "        x = torch.relu(self.fc1(x))\n",
    "        x = torch.relu(self.fc2(x))\n",
    "        x = torch.sigmoid(self.fc3(x))\n",
    "        return x\n",
    "\n",
    "# Ініціалізація мережі та функції втрат\n",
    "input_size = X_train_normalized.shape[1]\n",
    "net = Net(input_size)\n",
    "criterion = nn.BCELoss()\n",
    "optimizer = optim.Adam(net.parameters(), lr=0.001)"
   ]
  },
  {
   "cell_type": "code",
   "execution_count": 19,
   "metadata": {},
   "outputs": [
    {
     "name": "stdout",
     "output_type": "stream",
     "text": [
      "Точність на валідаційній вибірці: 0.71\n"
     ]
    }
   ],
   "source": [
    "# Тренування мережі\n",
    "epochs = 300\n",
    "for epoch in range(epochs):\n",
    "    optimizer.zero_grad()\n",
    "    outputs = net(torch.tensor(X_train_normalized, dtype=torch.float32))\n",
    "    loss = criterion(outputs, torch.tensor(y_train, dtype=torch.float32).view(-1, 1))\n",
    "    loss.backward()\n",
    "    optimizer.step()\n",
    "\n",
    "# Оцінка точності на валідаційній вибірці\n",
    "with torch.no_grad():\n",
    "    outputs = net(torch.tensor(X_val_normalized, dtype=torch.float32))\n",
    "    predicted = (outputs > 0.5).float()\n",
    "    accuracy = (predicted == torch.tensor(y_val, dtype=torch.float32).view(-1, 1)).float().mean()\n",
    "    print(f'Точність на валідаційній вибірці: {accuracy.item():.2f}')\n",
    "\n",
    "# Побудова кореляційної матриці\n",
    "correlation_matrix = dataset.corr()\n",
    "\n",
    "# Вибір перших 4 ознак з кореляційної матриці\n",
    "selected_features = correlation_matrix.index[:4]\n",
    "X_train_selected = X_train_normalized[:, selected_features]\n",
    "X_val_selected = X_val_normalized[:, selected_features]\n",
    "\n",
    "# Перевизначення та тренування мережі з новими даними\n",
    "input_size_selected = X_train_selected.shape[1]\n",
    "net_selected = Net(input_size_selected)\n",
    "optimizer_selected = optim.Adam(net_selected.parameters(), lr=0.001)\n",
    "\n",
    "# Тренування мережі для підмножини ознак\n",
    "for epoch in range(epochs):\n",
    "    optimizer_selected.zero_grad()\n",
    "    outputs = net_selected(torch.tensor(X_train_selected, dtype=torch.float32))\n",
    "    loss = criterion(outputs, torch.tensor(y_train, dtype=torch.float32).view(-1, 1))\n",
    "    loss.backward()\n",
    "    optimizer_selected.step()\n",
    "\n"
   ]
  }
 ],
 "metadata": {
  "kernelspec": {
   "display_name": "Python 3",
   "language": "python",
   "name": "python3"
  },
  "language_info": {
   "codemirror_mode": {
    "name": "ipython",
    "version": 3
   },
   "file_extension": ".py",
   "mimetype": "text/x-python",
   "name": "python",
   "nbconvert_exporter": "python",
   "pygments_lexer": "ipython3",
   "version": "3.10.9"
  }
 },
 "nbformat": 4,
 "nbformat_minor": 2
}
